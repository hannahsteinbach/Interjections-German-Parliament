{
 "cells": [
  {
   "cell_type": "code",
   "id": "initial_id",
   "metadata": {
    "collapsed": true,
    "ExecuteTime": {
     "end_time": "2025-02-13T09:37:53.325842Z",
     "start_time": "2025-02-13T09:37:53.178442Z"
    }
   },
   "source": [
    "import pandas as pd\n",
    "import pickle\n",
    "import spacy\n",
    "from matplotlib import pyplot as plt"
   ],
   "outputs": [],
   "execution_count": 239
  },
  {
   "metadata": {
    "ExecuteTime": {
     "end_time": "2025-02-13T09:37:53.650032Z",
     "start_time": "2025-02-13T09:37:53.355849Z"
    }
   },
   "cell_type": "code",
   "source": [
    "evaluation_annotation = pd.read_csv(\"annotations/evaluation_annotation_speech.csv\", delimiter=';', header=0)\n",
    "nothing_annotation = pd.read_csv(\"annotations/nothing_annotation_speech.csv\", delimiter=';', header=0)\n",
    "class_annotation = pd.read_csv(\"annotations/class_annotation_speech.csv\", delimiter=';', header=0)"
   ],
   "id": "2d28137a3c860768",
   "outputs": [],
   "execution_count": 240
  },
  {
   "metadata": {
    "ExecuteTime": {
     "end_time": "2025-02-13T09:37:53.812055Z",
     "start_time": "2025-02-13T09:37:53.777584Z"
    }
   },
   "cell_type": "code",
   "source": [
    "evaluation_annotation = evaluation_annotation[evaluation_annotation['true_label'] != \"vocative\"]\n",
    "nothing_annotation = nothing_annotation[nothing_annotation['true_label'] != \"vocative\"]\n",
    "class_annotation = class_annotation[class_annotation['true_label'] != \"vocative\"]"
   ],
   "id": "7745bd408bf85163",
   "outputs": [],
   "execution_count": 241
  },
  {
   "metadata": {
    "ExecuteTime": {
     "end_time": "2025-02-13T09:37:53.908563Z",
     "start_time": "2025-02-13T09:37:53.861563Z"
    }
   },
   "cell_type": "code",
   "source": "evaluation_annotation",
   "id": "3ba6539389d1b2b0",
   "outputs": [
    {
     "data": {
      "text/plain": [
       "                                 utterance_token_list  \\\n",
       "0   ['Das', 'machen', 'Sie', 'aber', 'nicht', ',',...   \n",
       "1   ['Deshalb', 'würde', 'ein', 'Sondergipfel', 'z...   \n",
       "2   ['Es', 'ist', 'gut', 'und', 'es', 'ist', 'uns'...   \n",
       "3   ['Da', 'ist', 'eine', 'Region', 'gewissermaßen...   \n",
       "4   ['Beim', 'Infektionsschutz', 'geht', 'es', 'ni...   \n",
       "..                                                ...   \n",
       "95  ['aber', 'sie', 'sind', 'die', 'nicht', 'wegzu...   \n",
       "96  ['Was', 'lauert', 'denn', 'hinter', 'diesem', ...   \n",
       "97  ['Kurz', ':', 'Wie', 'würde', 'es', 'Ihnen', '...   \n",
       "98  ['Befreien', 'und', 'entfesseln', 'wir', 'unse...   \n",
       "99  ['Ich', 'stehe', 'für', 'ein', 'Land', 'ein', ...   \n",
       "\n",
       "                                            Sentences predicted_labels  \\\n",
       "0   Das machen Sie aber nicht, und deswegen wenden...   ['Evaluation']   \n",
       "1   Deshalb würde ein Sondergipfel zu diesem Zeitp...   ['Evaluation']   \n",
       "2   Es ist gut und es ist uns eine Ehre, Sie heute...   ['Evaluation']   \n",
       "3   Da ist eine Region gewissermaßen umzingelt von...   ['Evaluation']   \n",
       "4   Beim Infektionsschutz geht es nicht um Wählers...   ['Evaluation']   \n",
       "..                                                ...              ...   \n",
       "95  aber sie sind die nicht wegzudenkende Basis ei...   ['Evaluation']   \n",
       "96                Was lauert denn hinter diesem Damm?   ['Evaluation']   \n",
       "97  Kurz: Wie würde es Ihnen gehen, wenn Sie Ihre ...   ['Evaluation']   \n",
       "98     Befreien und entfesseln wir unsere Wirtschaft?   ['Evaluation']   \n",
       "99  Ich stehe für ein Land ein, in dem Studenten u...   ['Evaluation']   \n",
       "\n",
       "             confidences  next_verbal_interjection  \\\n",
       "0   [0.9255906939506531]                     False   \n",
       "1   [0.9712060689926147]                     False   \n",
       "2   [0.9304444193840027]                     False   \n",
       "3   [0.8300830721855164]                     False   \n",
       "4   [0.9717352986335754]                     False   \n",
       "..                   ...                       ...   \n",
       "95  [0.9666141271591187]                     False   \n",
       "96  [0.5899555683135986]                     False   \n",
       "97  [0.5557129383087158]                     False   \n",
       "98  [0.8563922047615051]                     False   \n",
       "99   [0.718624472618103]                      True   \n",
       "\n",
       "    next_nonverbal_interjection                        Speaker    Gender  \\\n",
       "0                         False                  Mario Mieruch  männlich   \n",
       "1                         False                    Nils Schmid  männlich   \n",
       "2                         False                Alexander Throm  männlich   \n",
       "3                         False  Marie-Agnes Strack-Zimmermann  weiblich   \n",
       "4                          True                 Janosch Dahmen  männlich   \n",
       "..                          ...                            ...       ...   \n",
       "95                        False                 Martin Patzelt  männlich   \n",
       "96                        False          Roman Johannes Reusch  männlich   \n",
       "97                        False                Susann Rüthrich  weiblich   \n",
       "98                        False                   Paul Ziemiak  männlich   \n",
       "99                        False                 Philipp Amthor  männlich   \n",
       "\n",
       "      Party       Filename                    true_label    utterance  \n",
       "0       LKR  BT_19_239.xml  ['Accusation', 'Evaluation']        False  \n",
       "1       SPD  BT_19_239.xml                ['Evaluation']        False  \n",
       "2   CDU/CSU  BT_19_236.xml                ['Expressive']        False  \n",
       "3       FDP  BT_19_236.xml         ['Report', 'Request']        False  \n",
       "4    GRUENE  BT_19_238.xml                ['Evaluation']        False  \n",
       "..      ...            ...                           ...          ...  \n",
       "95  CDU/CSU  BT_19_237.xml                ['Evaluation']         True  \n",
       "96      AfD  BT_19_236.xml              ['Question-All']         True  \n",
       "97      SPD  BT_19_236.xml              ['Question-All']         True  \n",
       "98  CDU/CSU  BT_19_239.xml              ['Question-All']         True  \n",
       "99  CDU/CSU  BT_19_236.xml       ['Self-representation']  Interrupted  \n",
       "\n",
       "[96 rows x 12 columns]"
      ],
      "text/html": [
       "<div>\n",
       "<style scoped>\n",
       "    .dataframe tbody tr th:only-of-type {\n",
       "        vertical-align: middle;\n",
       "    }\n",
       "\n",
       "    .dataframe tbody tr th {\n",
       "        vertical-align: top;\n",
       "    }\n",
       "\n",
       "    .dataframe thead th {\n",
       "        text-align: right;\n",
       "    }\n",
       "</style>\n",
       "<table border=\"1\" class=\"dataframe\">\n",
       "  <thead>\n",
       "    <tr style=\"text-align: right;\">\n",
       "      <th></th>\n",
       "      <th>utterance_token_list</th>\n",
       "      <th>Sentences</th>\n",
       "      <th>predicted_labels</th>\n",
       "      <th>confidences</th>\n",
       "      <th>next_verbal_interjection</th>\n",
       "      <th>next_nonverbal_interjection</th>\n",
       "      <th>Speaker</th>\n",
       "      <th>Gender</th>\n",
       "      <th>Party</th>\n",
       "      <th>Filename</th>\n",
       "      <th>true_label</th>\n",
       "      <th>utterance</th>\n",
       "    </tr>\n",
       "  </thead>\n",
       "  <tbody>\n",
       "    <tr>\n",
       "      <th>0</th>\n",
       "      <td>['Das', 'machen', 'Sie', 'aber', 'nicht', ',',...</td>\n",
       "      <td>Das machen Sie aber nicht, und deswegen wenden...</td>\n",
       "      <td>['Evaluation']</td>\n",
       "      <td>[0.9255906939506531]</td>\n",
       "      <td>False</td>\n",
       "      <td>False</td>\n",
       "      <td>Mario Mieruch</td>\n",
       "      <td>männlich</td>\n",
       "      <td>LKR</td>\n",
       "      <td>BT_19_239.xml</td>\n",
       "      <td>['Accusation', 'Evaluation']</td>\n",
       "      <td>False</td>\n",
       "    </tr>\n",
       "    <tr>\n",
       "      <th>1</th>\n",
       "      <td>['Deshalb', 'würde', 'ein', 'Sondergipfel', 'z...</td>\n",
       "      <td>Deshalb würde ein Sondergipfel zu diesem Zeitp...</td>\n",
       "      <td>['Evaluation']</td>\n",
       "      <td>[0.9712060689926147]</td>\n",
       "      <td>False</td>\n",
       "      <td>False</td>\n",
       "      <td>Nils Schmid</td>\n",
       "      <td>männlich</td>\n",
       "      <td>SPD</td>\n",
       "      <td>BT_19_239.xml</td>\n",
       "      <td>['Evaluation']</td>\n",
       "      <td>False</td>\n",
       "    </tr>\n",
       "    <tr>\n",
       "      <th>2</th>\n",
       "      <td>['Es', 'ist', 'gut', 'und', 'es', 'ist', 'uns'...</td>\n",
       "      <td>Es ist gut und es ist uns eine Ehre, Sie heute...</td>\n",
       "      <td>['Evaluation']</td>\n",
       "      <td>[0.9304444193840027]</td>\n",
       "      <td>False</td>\n",
       "      <td>False</td>\n",
       "      <td>Alexander Throm</td>\n",
       "      <td>männlich</td>\n",
       "      <td>CDU/CSU</td>\n",
       "      <td>BT_19_236.xml</td>\n",
       "      <td>['Expressive']</td>\n",
       "      <td>False</td>\n",
       "    </tr>\n",
       "    <tr>\n",
       "      <th>3</th>\n",
       "      <td>['Da', 'ist', 'eine', 'Region', 'gewissermaßen...</td>\n",
       "      <td>Da ist eine Region gewissermaßen umzingelt von...</td>\n",
       "      <td>['Evaluation']</td>\n",
       "      <td>[0.8300830721855164]</td>\n",
       "      <td>False</td>\n",
       "      <td>False</td>\n",
       "      <td>Marie-Agnes Strack-Zimmermann</td>\n",
       "      <td>weiblich</td>\n",
       "      <td>FDP</td>\n",
       "      <td>BT_19_236.xml</td>\n",
       "      <td>['Report', 'Request']</td>\n",
       "      <td>False</td>\n",
       "    </tr>\n",
       "    <tr>\n",
       "      <th>4</th>\n",
       "      <td>['Beim', 'Infektionsschutz', 'geht', 'es', 'ni...</td>\n",
       "      <td>Beim Infektionsschutz geht es nicht um Wählers...</td>\n",
       "      <td>['Evaluation']</td>\n",
       "      <td>[0.9717352986335754]</td>\n",
       "      <td>False</td>\n",
       "      <td>True</td>\n",
       "      <td>Janosch Dahmen</td>\n",
       "      <td>männlich</td>\n",
       "      <td>GRUENE</td>\n",
       "      <td>BT_19_238.xml</td>\n",
       "      <td>['Evaluation']</td>\n",
       "      <td>False</td>\n",
       "    </tr>\n",
       "    <tr>\n",
       "      <th>...</th>\n",
       "      <td>...</td>\n",
       "      <td>...</td>\n",
       "      <td>...</td>\n",
       "      <td>...</td>\n",
       "      <td>...</td>\n",
       "      <td>...</td>\n",
       "      <td>...</td>\n",
       "      <td>...</td>\n",
       "      <td>...</td>\n",
       "      <td>...</td>\n",
       "      <td>...</td>\n",
       "      <td>...</td>\n",
       "    </tr>\n",
       "    <tr>\n",
       "      <th>95</th>\n",
       "      <td>['aber', 'sie', 'sind', 'die', 'nicht', 'wegzu...</td>\n",
       "      <td>aber sie sind die nicht wegzudenkende Basis ei...</td>\n",
       "      <td>['Evaluation']</td>\n",
       "      <td>[0.9666141271591187]</td>\n",
       "      <td>False</td>\n",
       "      <td>False</td>\n",
       "      <td>Martin Patzelt</td>\n",
       "      <td>männlich</td>\n",
       "      <td>CDU/CSU</td>\n",
       "      <td>BT_19_237.xml</td>\n",
       "      <td>['Evaluation']</td>\n",
       "      <td>True</td>\n",
       "    </tr>\n",
       "    <tr>\n",
       "      <th>96</th>\n",
       "      <td>['Was', 'lauert', 'denn', 'hinter', 'diesem', ...</td>\n",
       "      <td>Was lauert denn hinter diesem Damm?</td>\n",
       "      <td>['Evaluation']</td>\n",
       "      <td>[0.5899555683135986]</td>\n",
       "      <td>False</td>\n",
       "      <td>False</td>\n",
       "      <td>Roman Johannes Reusch</td>\n",
       "      <td>männlich</td>\n",
       "      <td>AfD</td>\n",
       "      <td>BT_19_236.xml</td>\n",
       "      <td>['Question-All']</td>\n",
       "      <td>True</td>\n",
       "    </tr>\n",
       "    <tr>\n",
       "      <th>97</th>\n",
       "      <td>['Kurz', ':', 'Wie', 'würde', 'es', 'Ihnen', '...</td>\n",
       "      <td>Kurz: Wie würde es Ihnen gehen, wenn Sie Ihre ...</td>\n",
       "      <td>['Evaluation']</td>\n",
       "      <td>[0.5557129383087158]</td>\n",
       "      <td>False</td>\n",
       "      <td>False</td>\n",
       "      <td>Susann Rüthrich</td>\n",
       "      <td>weiblich</td>\n",
       "      <td>SPD</td>\n",
       "      <td>BT_19_236.xml</td>\n",
       "      <td>['Question-All']</td>\n",
       "      <td>True</td>\n",
       "    </tr>\n",
       "    <tr>\n",
       "      <th>98</th>\n",
       "      <td>['Befreien', 'und', 'entfesseln', 'wir', 'unse...</td>\n",
       "      <td>Befreien und entfesseln wir unsere Wirtschaft?</td>\n",
       "      <td>['Evaluation']</td>\n",
       "      <td>[0.8563922047615051]</td>\n",
       "      <td>False</td>\n",
       "      <td>False</td>\n",
       "      <td>Paul Ziemiak</td>\n",
       "      <td>männlich</td>\n",
       "      <td>CDU/CSU</td>\n",
       "      <td>BT_19_239.xml</td>\n",
       "      <td>['Question-All']</td>\n",
       "      <td>True</td>\n",
       "    </tr>\n",
       "    <tr>\n",
       "      <th>99</th>\n",
       "      <td>['Ich', 'stehe', 'für', 'ein', 'Land', 'ein', ...</td>\n",
       "      <td>Ich stehe für ein Land ein, in dem Studenten u...</td>\n",
       "      <td>['Evaluation']</td>\n",
       "      <td>[0.718624472618103]</td>\n",
       "      <td>True</td>\n",
       "      <td>False</td>\n",
       "      <td>Philipp Amthor</td>\n",
       "      <td>männlich</td>\n",
       "      <td>CDU/CSU</td>\n",
       "      <td>BT_19_236.xml</td>\n",
       "      <td>['Self-representation']</td>\n",
       "      <td>Interrupted</td>\n",
       "    </tr>\n",
       "  </tbody>\n",
       "</table>\n",
       "<p>96 rows × 12 columns</p>\n",
       "</div>"
      ]
     },
     "execution_count": 242,
     "metadata": {},
     "output_type": "execute_result"
    }
   ],
   "execution_count": 242
  },
  {
   "metadata": {
    "ExecuteTime": {
     "end_time": "2025-02-13T09:37:53.951596Z",
     "start_time": "2025-02-13T09:37:53.945561Z"
    }
   },
   "cell_type": "code",
   "source": "evaluation_annotation = evaluation_annotation[evaluation_annotation['true_label'] != \"vocative\"]",
   "id": "2bf96f1aa5ae454c",
   "outputs": [],
   "execution_count": 243
  },
  {
   "metadata": {
    "ExecuteTime": {
     "end_time": "2025-02-13T09:37:54.737686Z",
     "start_time": "2025-02-13T09:37:54.061425Z"
    }
   },
   "cell_type": "code",
   "source": [
    "true_label_distribution = evaluation_annotation['true_label'].value_counts(normalize=True) * 100\n",
    "utterance_distribution = evaluation_annotation['utterance'].value_counts(normalize=True) * 100\n",
    "\n",
    "print(\"True Label Distribution:\")\n",
    "print(true_label_distribution)\n",
    "import matplotlib.pyplot as plt\n",
    "\n",
    "true_label_distribution.plot(kind=\"bar\", figsize=(8, 5), color=\"cornflowerblue\")\n",
    "\n",
    "plt.xlabel(\"True Label\")\n",
    "plt.ylabel(\"Percentage\")\n",
    "plt.title(\"Distribution of True Labels\")\n",
    "plt.xticks(rotation=45)  # Rotate labels for better readability\n",
    "plt.grid(axis=\"y\", linestyle=\"--\", alpha=0.7)  # Optional grid\n",
    "plt.show()\n",
    "\n",
    "print(\"\\nUtterance Distribution:\")\n",
    "print(utterance_distribution)\n"
   ],
   "id": "c6352a337844d2db",
   "outputs": [
    {
     "name": "stdout",
     "output_type": "stream",
     "text": [
      "True Label Distribution:\n",
      "true_label\n",
      "['Evaluation']                   39.583333\n",
      "['Report']                       19.791667\n",
      "['Accusation']                    7.291667\n",
      "['Expressive']                    6.250000\n",
      "['Question-All']                  5.208333\n",
      "['Self-representation']           4.166667\n",
      "['Demand']                        4.166667\n",
      "['Request']                       4.166667\n",
      "['Bad-outcome']                   3.125000\n",
      "['Support']                       2.083333\n",
      "['Accusation', 'Evaluation']      1.041667\n",
      "['Report', 'Request']             1.041667\n",
      "['Accusation', 'Bad-Outcome']     1.041667\n",
      "['Macro']                         1.041667\n",
      "Name: proportion, dtype: float64\n"
     ]
    },
    {
     "data": {
      "text/plain": [
       "<Figure size 800x500 with 1 Axes>"
      ],
      "image/png": "[encoded data removed]"
     },
     "metadata": {},
     "output_type": "display_data"
    },
    {
     "name": "stdout",
     "output_type": "stream",
     "text": [
      "\n",
      "Utterance Distribution:\n",
      "utterance\n",
      "True           84.375000\n",
      "Interrupted     8.333333\n",
      "False           7.291667\n",
      "Name: proportion, dtype: float64\n"
     ]
    }
   ],
   "execution_count": 244
  },
  {
   "metadata": {
    "ExecuteTime": {
     "end_time": "2025-02-13T09:37:54.834361Z",
     "start_time": "2025-02-13T09:37:54.819624Z"
    }
   },
   "cell_type": "code",
   "source": [
    "evaluation_distribution = evaluation_annotation[evaluation_annotation[\"true_label\"] == \"['Evaluation']\"][\"utterance\"].value_counts(normalize=True) * 100\n",
    "evaluation_distribution"
   ],
   "id": "60bb0b726912923c",
   "outputs": [
    {
     "data": {
      "text/plain": [
       "utterance\n",
       "True           86.842105\n",
       "False          10.526316\n",
       "Interrupted     2.631579\n",
       "Name: proportion, dtype: float64"
      ]
     },
     "execution_count": 245,
     "metadata": {},
     "output_type": "execute_result"
    }
   ],
   "execution_count": 245
  },
  {
   "metadata": {
    "ExecuteTime": {
     "end_time": "2025-02-13T09:37:54.931923Z",
     "start_time": "2025-02-13T09:37:54.920175Z"
    }
   },
   "cell_type": "code",
   "source": [
    "evaluation_distribution = evaluation_annotation[evaluation_annotation[\"true_label\"] != \"['Evaluation']\"][\"utterance\"].value_counts(normalize=True) * 100\n",
    "evaluation_distribution"
   ],
   "id": "67751296184cdec1",
   "outputs": [
    {
     "data": {
      "text/plain": [
       "utterance\n",
       "True           82.758621\n",
       "Interrupted    12.068966\n",
       "False           5.172414\n",
       "Name: proportion, dtype: float64"
      ]
     },
     "execution_count": 246,
     "metadata": {},
     "output_type": "execute_result"
    }
   ],
   "execution_count": 246
  },
  {
   "metadata": {
    "ExecuteTime": {
     "end_time": "2025-02-13T09:37:55.271519Z",
     "start_time": "2025-02-13T09:37:55.242860Z"
    }
   },
   "cell_type": "code",
   "source": [
    "from sklearn.metrics import accuracy_score\n",
    "true_labels = evaluation_annotation['true_label']\n",
    "predicted_labels = evaluation_annotation['predicted_labels']\n",
    "\n",
    "# Calculate the accuracy\n",
    "accuracy = accuracy_score(true_labels, predicted_labels)\n",
    "\n",
    "print(f\"Accuracy: {accuracy * 100:.2f}%\")"
   ],
   "id": "8b778614d8af6abf",
   "outputs": [
    {
     "name": "stdout",
     "output_type": "stream",
     "text": [
      "Accuracy: 39.58%\n"
     ]
    }
   ],
   "execution_count": 247
  },
  {
   "metadata": {
    "ExecuteTime": {
     "end_time": "2025-02-13T09:37:55.643754Z",
     "start_time": "2025-02-13T09:37:55.633538Z"
    }
   },
   "cell_type": "code",
   "source": [
    "verbal_distribution = (\n",
    "        evaluation_annotation[evaluation_annotation[\"next_verbal_interjection\"] == True][\"true_label\"]\n",
    "        .value_counts(normalize=True) * 100\n",
    "    )\n",
    "\n",
    "verbal_distribution"
   ],
   "id": "c15e4fe103b11d09",
   "outputs": [
    {
     "data": {
      "text/plain": [
       "true_label\n",
       "['Report']                 50.000000\n",
       "['Self-representation']    33.333333\n",
       "['Accusation']             16.666667\n",
       "Name: proportion, dtype: float64"
      ]
     },
     "execution_count": 248,
     "metadata": {},
     "output_type": "execute_result"
    }
   ],
   "execution_count": 248
  },
  {
   "metadata": {
    "ExecuteTime": {
     "end_time": "2025-02-13T09:37:55.829215Z",
     "start_time": "2025-02-13T09:37:55.818016Z"
    }
   },
   "cell_type": "code",
   "source": [
    "nonverbal_distribution = (\n",
    "        evaluation_annotation[evaluation_annotation[\"next_nonverbal_interjection\"] == True][\"true_label\"]\n",
    "        .value_counts(normalize=True) * 100\n",
    "    )\n",
    "\n",
    "verbal_distribution"
   ],
   "id": "5238120807f6518c",
   "outputs": [
    {
     "data": {
      "text/plain": [
       "true_label\n",
       "['Report']                 50.000000\n",
       "['Self-representation']    33.333333\n",
       "['Accusation']             16.666667\n",
       "Name: proportion, dtype: float64"
      ]
     },
     "execution_count": 249,
     "metadata": {},
     "output_type": "execute_result"
    }
   ],
   "execution_count": 249
  },
  {
   "metadata": {
    "ExecuteTime": {
     "end_time": "2025-02-13T09:37:55.977472Z",
     "start_time": "2025-02-13T09:37:55.961996Z"
    }
   },
   "cell_type": "code",
   "source": [
    "no_interjection_distribution = (\n",
    "    evaluation_annotation[\n",
    "        (evaluation_annotation[\"next_verbal_interjection\"] == False) &\n",
    "        (evaluation_annotation[\"next_nonverbal_interjection\"] == False)\n",
    "    ][\"true_label\"]\n",
    "    .value_counts(normalize=True) * 100\n",
    ")\n",
    "\n",
    "no_interjection_distribution"
   ],
   "id": "1566ef5877c7ebf9",
   "outputs": [
    {
     "data": {
      "text/plain": [
       "true_label\n",
       "['Evaluation']                   41.860465\n",
       "['Report']                       18.604651\n",
       "['Expressive']                    6.976744\n",
       "['Accusation']                    6.976744\n",
       "['Question-All']                  5.813953\n",
       "['Request']                       4.651163\n",
       "['Bad-outcome']                   3.488372\n",
       "['Demand']                        3.488372\n",
       "['Self-representation']           2.325581\n",
       "['Support']                       2.325581\n",
       "['Accusation', 'Evaluation']      1.162791\n",
       "['Report', 'Request']             1.162791\n",
       "['Accusation', 'Bad-Outcome']     1.162791\n",
       "Name: proportion, dtype: float64"
      ]
     },
     "execution_count": 250,
     "metadata": {},
     "output_type": "execute_result"
    }
   ],
   "execution_count": 250
  },
  {
   "metadata": {
    "ExecuteTime": {
     "end_time": "2025-02-13T09:37:56.135785Z",
     "start_time": "2025-02-13T09:37:56.132638Z"
    }
   },
   "cell_type": "code",
   "source": "",
   "id": "202cdcb4eb504627",
   "outputs": [],
   "execution_count": null
  },
  {
   "metadata": {
    "ExecuteTime": {
     "end_time": "2025-02-13T09:37:56.328108Z",
     "start_time": "2025-02-13T09:37:56.311190Z"
    }
   },
   "cell_type": "code",
   "source": "nothing_annotation",
   "id": "1f505107a0614d6f",
   "outputs": [
    {
     "data": {
      "text/plain": [
       "                                 utterance_token_list  \\\n",
       "0                                           ['2019.']   \n",
       "1   ['angefangen', 'bei', 'einer', 'Düngeverordnun...   \n",
       "2   ['Das', 'Modell', 'der', 'dualen', 'Ausbildung...   \n",
       "3   ['Deshalb', 'greift', 'die', 'vorgeschlagene',...   \n",
       "4   ['Geboren', 'wurden', 'sie', 'in', 'einem', 'L...   \n",
       "..                                                ...   \n",
       "95  ['Darüber', 'hinaus', 'geht', 'die', 'Bundesre...   \n",
       "96  ['Ich', 'möchte', 'das', 'auch', 'begründen', ...   \n",
       "97                      ['Ich', 'frage', 'mich', ':']   \n",
       "98  ['Schrumpfende', 'Räume', 'gibt', 'es', 'zum',...   \n",
       "99  ['Liebe', 'Kolleginnen', 'und', 'Kollegen', ',...   \n",
       "\n",
       "                                            Sentences predicted_labels  \\\n",
       "0                                               2019.               []   \n",
       "1   angefangen bei einer Düngeverordnung, die zust...               []   \n",
       "2   Das Modell der dualen Ausbildung hat sich bewä...               []   \n",
       "3   Deshalb greift die vorgeschlagene Änderung aus...               []   \n",
       "4   Geboren wurden sie in einem Lebensborn-Heim, a...               []   \n",
       "..                                                ...              ...   \n",
       "95  Darüber hinaus geht die Bundesregierung davon ...               []   \n",
       "96                     Ich möchte das auch begründen.               []   \n",
       "97                                    Ich frage mich:               []   \n",
       "98  Schrumpfende Räume gibt es zum Teil auch für d...               []   \n",
       "99  Liebe Kolleginnen und Kollegen, auf den Mauern...               []   \n",
       "\n",
       "   confidences  next_verbal_interjection  next_nonverbal_interjection  \\\n",
       "0           []                     False                        False   \n",
       "1           []                     False                        False   \n",
       "2           []                     False                        False   \n",
       "3           []                     False                        False   \n",
       "4           []                      True                        False   \n",
       "..         ...                       ...                          ...   \n",
       "95          []                     False                        False   \n",
       "96          []                     False                         True   \n",
       "97          []                     False                        False   \n",
       "98          []                     False                        False   \n",
       "99          []                     False                        False   \n",
       "\n",
       "                Speaker    Gender      Party       Filename  \\\n",
       "0       Alexander Throm  männlich    CDU/CSU  BT_19_236.xml   \n",
       "1   Gero Clemens Hocker  männlich        FDP  BT_19_236.xml   \n",
       "2          Axel Knoerig  männlich    CDU/CSU  BT_19_235.xml   \n",
       "3       Wolfgang Wiehle  männlich        AfD  BT_19_236.xml   \n",
       "4     Simone Barrientos  weiblich  DIE LINKE  BT_19_237.xml   \n",
       "..                  ...       ...        ...            ...   \n",
       "95        Andreas Bleck  männlich        AfD  BT_19_236.xml   \n",
       "96            Jan Korte  männlich  DIE LINKE  BT_19_238.xml   \n",
       "97       Gesine Lötzsch  weiblich  DIE LINKE  BT_19_238.xml   \n",
       "98      Linda Teuteberg  weiblich        FDP  BT_19_237.xml   \n",
       "99           Karin Maag  weiblich    CDU/CSU  BT_19_237.xml   \n",
       "\n",
       "                        true_label    utterance  \n",
       "0                               []  Interrupted  \n",
       "1   ['Accusation', 'Question-All']        False  \n",
       "2         ['Evaluation', 'Demand']        False  \n",
       "3                    ['Rejection']        False  \n",
       "4         ['Report', 'Accusation']        False  \n",
       "..                             ...          ...  \n",
       "95                      ['Report']         True  \n",
       "96                       ['Macro']         True  \n",
       "97                ['Question-All']  Interrupted  \n",
       "98                      ['Report']         True  \n",
       "99                      ['Report']         True  \n",
       "\n",
       "[82 rows x 12 columns]"
      ],
      "text/html": [
       "<div>\n",
       "<style scoped>\n",
       "    .dataframe tbody tr th:only-of-type {\n",
       "        vertical-align: middle;\n",
       "    }\n",
       "\n",
       "    .dataframe tbody tr th {\n",
       "        vertical-align: top;\n",
       "    }\n",
       "\n",
       "    .dataframe thead th {\n",
       "        text-align: right;\n",
       "    }\n",
       "</style>\n",
       "<table border=\"1\" class=\"dataframe\">\n",
       "  <thead>\n",
       "    <tr style=\"text-align: right;\">\n",
       "      <th></th>\n",
       "      <th>utterance_token_list</th>\n",
       "      <th>Sentences</th>\n",
       "      <th>predicted_labels</th>\n",
       "      <th>confidences</th>\n",
       "      <th>next_verbal_interjection</th>\n",
       "      <th>next_nonverbal_interjection</th>\n",
       "      <th>Speaker</th>\n",
       "      <th>Gender</th>\n",
       "      <th>Party</th>\n",
       "      <th>Filename</th>\n",
       "      <th>true_label</th>\n",
       "      <th>utterance</th>\n",
       "    </tr>\n",
       "  </thead>\n",
       "  <tbody>\n",
       "    <tr>\n",
       "      <th>0</th>\n",
       "      <td>['2019.']</td>\n",
       "      <td>2019.</td>\n",
       "      <td>[]</td>\n",
       "      <td>[]</td>\n",
       "      <td>False</td>\n",
       "      <td>False</td>\n",
       "      <td>Alexander Throm</td>\n",
       "      <td>männlich</td>\n",
       "      <td>CDU/CSU</td>\n",
       "      <td>BT_19_236.xml</td>\n",
       "      <td>[]</td>\n",
       "      <td>Interrupted</td>\n",
       "    </tr>\n",
       "    <tr>\n",
       "      <th>1</th>\n",
       "      <td>['angefangen', 'bei', 'einer', 'Düngeverordnun...</td>\n",
       "      <td>angefangen bei einer Düngeverordnung, die zust...</td>\n",
       "      <td>[]</td>\n",
       "      <td>[]</td>\n",
       "      <td>False</td>\n",
       "      <td>False</td>\n",
       "      <td>Gero Clemens Hocker</td>\n",
       "      <td>männlich</td>\n",
       "      <td>FDP</td>\n",
       "      <td>BT_19_236.xml</td>\n",
       "      <td>['Accusation', 'Question-All']</td>\n",
       "      <td>False</td>\n",
       "    </tr>\n",
       "    <tr>\n",
       "      <th>2</th>\n",
       "      <td>['Das', 'Modell', 'der', 'dualen', 'Ausbildung...</td>\n",
       "      <td>Das Modell der dualen Ausbildung hat sich bewä...</td>\n",
       "      <td>[]</td>\n",
       "      <td>[]</td>\n",
       "      <td>False</td>\n",
       "      <td>False</td>\n",
       "      <td>Axel Knoerig</td>\n",
       "      <td>männlich</td>\n",
       "      <td>CDU/CSU</td>\n",
       "      <td>BT_19_235.xml</td>\n",
       "      <td>['Evaluation', 'Demand']</td>\n",
       "      <td>False</td>\n",
       "    </tr>\n",
       "    <tr>\n",
       "      <th>3</th>\n",
       "      <td>['Deshalb', 'greift', 'die', 'vorgeschlagene',...</td>\n",
       "      <td>Deshalb greift die vorgeschlagene Änderung aus...</td>\n",
       "      <td>[]</td>\n",
       "      <td>[]</td>\n",
       "      <td>False</td>\n",
       "      <td>False</td>\n",
       "      <td>Wolfgang Wiehle</td>\n",
       "      <td>männlich</td>\n",
       "      <td>AfD</td>\n",
       "      <td>BT_19_236.xml</td>\n",
       "      <td>['Rejection']</td>\n",
       "      <td>False</td>\n",
       "    </tr>\n",
       "    <tr>\n",
       "      <th>4</th>\n",
       "      <td>['Geboren', 'wurden', 'sie', 'in', 'einem', 'L...</td>\n",
       "      <td>Geboren wurden sie in einem Lebensborn-Heim, a...</td>\n",
       "      <td>[]</td>\n",
       "      <td>[]</td>\n",
       "      <td>True</td>\n",
       "      <td>False</td>\n",
       "      <td>Simone Barrientos</td>\n",
       "      <td>weiblich</td>\n",
       "      <td>DIE LINKE</td>\n",
       "      <td>BT_19_237.xml</td>\n",
       "      <td>['Report', 'Accusation']</td>\n",
       "      <td>False</td>\n",
       "    </tr>\n",
       "    <tr>\n",
       "      <th>...</th>\n",
       "      <td>...</td>\n",
       "      <td>...</td>\n",
       "      <td>...</td>\n",
       "      <td>...</td>\n",
       "      <td>...</td>\n",
       "      <td>...</td>\n",
       "      <td>...</td>\n",
       "      <td>...</td>\n",
       "      <td>...</td>\n",
       "      <td>...</td>\n",
       "      <td>...</td>\n",
       "      <td>...</td>\n",
       "    </tr>\n",
       "    <tr>\n",
       "      <th>95</th>\n",
       "      <td>['Darüber', 'hinaus', 'geht', 'die', 'Bundesre...</td>\n",
       "      <td>Darüber hinaus geht die Bundesregierung davon ...</td>\n",
       "      <td>[]</td>\n",
       "      <td>[]</td>\n",
       "      <td>False</td>\n",
       "      <td>False</td>\n",
       "      <td>Andreas Bleck</td>\n",
       "      <td>männlich</td>\n",
       "      <td>AfD</td>\n",
       "      <td>BT_19_236.xml</td>\n",
       "      <td>['Report']</td>\n",
       "      <td>True</td>\n",
       "    </tr>\n",
       "    <tr>\n",
       "      <th>96</th>\n",
       "      <td>['Ich', 'möchte', 'das', 'auch', 'begründen', ...</td>\n",
       "      <td>Ich möchte das auch begründen.</td>\n",
       "      <td>[]</td>\n",
       "      <td>[]</td>\n",
       "      <td>False</td>\n",
       "      <td>True</td>\n",
       "      <td>Jan Korte</td>\n",
       "      <td>männlich</td>\n",
       "      <td>DIE LINKE</td>\n",
       "      <td>BT_19_238.xml</td>\n",
       "      <td>['Macro']</td>\n",
       "      <td>True</td>\n",
       "    </tr>\n",
       "    <tr>\n",
       "      <th>97</th>\n",
       "      <td>['Ich', 'frage', 'mich', ':']</td>\n",
       "      <td>Ich frage mich:</td>\n",
       "      <td>[]</td>\n",
       "      <td>[]</td>\n",
       "      <td>False</td>\n",
       "      <td>False</td>\n",
       "      <td>Gesine Lötzsch</td>\n",
       "      <td>weiblich</td>\n",
       "      <td>DIE LINKE</td>\n",
       "      <td>BT_19_238.xml</td>\n",
       "      <td>['Question-All']</td>\n",
       "      <td>Interrupted</td>\n",
       "    </tr>\n",
       "    <tr>\n",
       "      <th>98</th>\n",
       "      <td>['Schrumpfende', 'Räume', 'gibt', 'es', 'zum',...</td>\n",
       "      <td>Schrumpfende Räume gibt es zum Teil auch für d...</td>\n",
       "      <td>[]</td>\n",
       "      <td>[]</td>\n",
       "      <td>False</td>\n",
       "      <td>False</td>\n",
       "      <td>Linda Teuteberg</td>\n",
       "      <td>weiblich</td>\n",
       "      <td>FDP</td>\n",
       "      <td>BT_19_237.xml</td>\n",
       "      <td>['Report']</td>\n",
       "      <td>True</td>\n",
       "    </tr>\n",
       "    <tr>\n",
       "      <th>99</th>\n",
       "      <td>['Liebe', 'Kolleginnen', 'und', 'Kollegen', ',...</td>\n",
       "      <td>Liebe Kolleginnen und Kollegen, auf den Mauern...</td>\n",
       "      <td>[]</td>\n",
       "      <td>[]</td>\n",
       "      <td>False</td>\n",
       "      <td>False</td>\n",
       "      <td>Karin Maag</td>\n",
       "      <td>weiblich</td>\n",
       "      <td>CDU/CSU</td>\n",
       "      <td>BT_19_237.xml</td>\n",
       "      <td>['Report']</td>\n",
       "      <td>True</td>\n",
       "    </tr>\n",
       "  </tbody>\n",
       "</table>\n",
       "<p>82 rows × 12 columns</p>\n",
       "</div>"
      ]
     },
     "execution_count": 251,
     "metadata": {},
     "output_type": "execute_result"
    }
   ],
   "execution_count": 251
  },
  {
   "metadata": {
    "ExecuteTime": {
     "end_time": "2025-02-13T09:37:57.728236Z",
     "start_time": "2025-02-13T09:37:56.516699Z"
    }
   },
   "cell_type": "code",
   "source": [
    "true_label_distribution = nothing_annotation['true_label'].value_counts(normalize=True) * 100\n",
    "utterance_distribution = nothing_annotation['utterance'].value_counts(normalize=True) * 100\n",
    "\n",
    "print(\"True Label Distribution:\")\n",
    "print(true_label_distribution)\n",
    "\n",
    "true_label_distribution.plot(kind=\"bar\", figsize=(8, 5), color=\"cornflowerblue\")\n",
    "\n",
    "plt.xlabel(\"True Label\")\n",
    "plt.ylabel(\"Percentage\")\n",
    "plt.title(\"Distribution of True Labels\")\n",
    "plt.xticks(rotation=45)  # Rotate labels for better readability\n",
    "plt.grid(axis=\"y\", linestyle=\"--\", alpha=0.7)  # Optional grid\n",
    "plt.show()\n",
    "\n",
    "print(\"\\nUtterance Distribution:\")\n",
    "print(utterance_distribution)"
   ],
   "id": "321820b52a86ee4d",
   "outputs": [
    {
     "name": "stdout",
     "output_type": "stream",
     "text": [
      "True Label Distribution:\n",
      "true_label\n",
      "['Expressive']                    25.609756\n",
      "['Report']                        19.512195\n",
      "['Demand']                        10.975610\n",
      "[]                                 7.317073\n",
      "['Promise']                        6.097561\n",
      "['Question-All']                   4.878049\n",
      "['Self-Representation']            4.878049\n",
      "['Accusation']                     3.658537\n",
      "['Rhetorical Question']            2.439024\n",
      "['Evaluation']                     2.439024\n",
      "['Rejection']                      2.439024\n",
      "['Expressive', 'Evaluation']       1.219512\n",
      "['Accusation', 'Question-All']     1.219512\n",
      "['Report', 'Demand']               1.219512\n",
      "['Question-All\"]                   1.219512\n",
      "['Report', 'Accusation']           1.219512\n",
      "['Request']                        1.219512\n",
      "['Evaluation', 'Demand']           1.219512\n",
      "['Macro']                          1.219512\n",
      "Name: proportion, dtype: float64\n"
     ]
    },
    {
     "data": {
      "text/plain": [
       "<Figure size 800x500 with 1 Axes>"
      ],
      "image/png": "[encoded data removed]"
     },
     "metadata": {},
     "output_type": "display_data"
    },
    {
     "name": "stdout",
     "output_type": "stream",
     "text": [
      "\n",
      "Utterance Distribution:\n",
      "utterance\n",
      "True           80.487805\n",
      "Interrupted    12.195122\n",
      "False           7.317073\n",
      "Name: proportion, dtype: float64\n"
     ]
    }
   ],
   "execution_count": 252
  },
  {
   "metadata": {
    "ExecuteTime": {
     "end_time": "2025-02-13T09:37:57.801765Z",
     "start_time": "2025-02-13T09:37:57.791964Z"
    }
   },
   "cell_type": "code",
   "source": [
    "evaluation_distribution = nothing_annotation[nothing_annotation[\"true_label\"] == \"[]\"][\"utterance\"].value_counts(normalize=True) * 100\n",
    "evaluation_distribution"
   ],
   "id": "b68c9f1eff622e5f",
   "outputs": [
    {
     "data": {
      "text/plain": [
       "utterance\n",
       "Interrupted    100.0\n",
       "Name: proportion, dtype: float64"
      ]
     },
     "execution_count": 253,
     "metadata": {},
     "output_type": "execute_result"
    }
   ],
   "execution_count": 253
  },
  {
   "metadata": {
    "ExecuteTime": {
     "end_time": "2025-02-13T09:37:57.870314Z",
     "start_time": "2025-02-13T09:37:57.861059Z"
    }
   },
   "cell_type": "code",
   "source": [
    "evaluation_distribution = nothing_annotation[nothing_annotation[\"true_label\"] != \"[]\"][\"utterance\"].value_counts(normalize=True) * 100\n",
    "evaluation_distribution"
   ],
   "id": "f3f73a6510e4cff8",
   "outputs": [
    {
     "data": {
      "text/plain": [
       "utterance\n",
       "True           86.842105\n",
       "False           7.894737\n",
       "Interrupted     5.263158\n",
       "Name: proportion, dtype: float64"
      ]
     },
     "execution_count": 254,
     "metadata": {},
     "output_type": "execute_result"
    }
   ],
   "execution_count": 254
  },
  {
   "metadata": {
    "ExecuteTime": {
     "end_time": "2025-02-13T09:37:58.027859Z",
     "start_time": "2025-02-13T09:37:58.021207Z"
    }
   },
   "cell_type": "code",
   "source": [
    "from sklearn.metrics import accuracy_score\n",
    "true_labels = nothing_annotation['true_label']\n",
    "predicted_labels = nothing_annotation['predicted_labels']\n",
    "\n",
    "# Calculate the accuracy\n",
    "accuracy = accuracy_score(true_labels, predicted_labels)\n",
    "\n",
    "print(f\"Accuracy: {accuracy * 100:.2f}%\")"
   ],
   "id": "cfb516f4c6810a73",
   "outputs": [
    {
     "name": "stdout",
     "output_type": "stream",
     "text": [
      "Accuracy: 7.32%\n"
     ]
    }
   ],
   "execution_count": 255
  },
  {
   "metadata": {
    "ExecuteTime": {
     "end_time": "2025-02-13T09:37:58.192773Z",
     "start_time": "2025-02-13T09:37:58.172772Z"
    }
   },
   "cell_type": "code",
   "source": "class_annotation",
   "id": "7c588255a7273065",
   "outputs": [
    {
     "data": {
      "text/plain": [
       "                                  utterance_token_list  \\\n",
       "0    ['Er', 'hat', ',', 'um', 'das', 'Angebot', 'de...   \n",
       "1    ['Selbst', 'wenn', 'die', 'Delta-Variante', 'i...   \n",
       "2    ['Jetzt', 'kommen', 'Sie', 'in', 'Ihrem', 'Ant...   \n",
       "3    ['Sie', 'wollen', 'eine', '„', 'Mission', 'Qua...   \n",
       "4    ['Aber', 'diesem', 'Green', 'Deal', 'fehlt', '...   \n",
       "..                                                 ...   \n",
       "106  ['Wir', 'sind', 'nach', 'Afghanistan', 'gegang...   \n",
       "107  ['Das', 'zeigt', ',', 'dass', 'wir', 'die', 'C...   \n",
       "108  ['Die', 'Linke', 'hat', 'in', 'ihrem', 'Antrag...   \n",
       "109  ['So', 'oder', 'so', ':', 'Die', 'AfD', 'Frakt...   \n",
       "110  ['Ich', 'gebe', 'dem', 'Kollegen', 'Kubicki', ...   \n",
       "\n",
       "                                             Sentences  \\\n",
       "0    Er hat, um das Angebot des Betreibers auf 2 Mi...   \n",
       "1    Selbst wenn die Delta-Variante im Indischen Oz...   \n",
       "2    Jetzt kommen Sie in Ihrem Antrag mit einer Mog...   \n",
       "3    Sie wollen eine „Mission Quantencomputer“ zum ...   \n",
       "4    Aber diesem Green Deal fehlt der pulsierende H...   \n",
       "..                                                 ...   \n",
       "106  Wir sind nach Afghanistan gegangen, um die fri...   \n",
       "107  Das zeigt, dass wir die Coronaschutzmaßnahmen ...   \n",
       "108  Die Linke hat in ihrem Antrag auf Einführung e...   \n",
       "109  So oder so: Die AfD Fraktion begrüßt es, dass ...   \n",
       "110               Ich gebe dem Kollegen Kubicki recht:   \n",
       "\n",
       "                 predicted_labels                               confidences  \\\n",
       "0    ['Accusation', 'Evaluation']  [0.7817721366882324, 0.8461074829101562]   \n",
       "1    ['Accusation', 'Evaluation']  [0.5181182622909546, 0.8843364715576172]   \n",
       "2    ['Accusation', 'Evaluation']  [0.5760517120361328, 0.8261353373527527]   \n",
       "3    ['Accusation', 'Evaluation']   [0.727050244808197, 0.5267686247825623]   \n",
       "4    ['Accusation', 'Evaluation']  [0.6021878719329834, 0.8785416483879089]   \n",
       "..                            ...                                       ...   \n",
       "106       ['Self-representation']                      [0.5320760607719421]   \n",
       "107       ['Self-representation']                      [0.5861029028892517]   \n",
       "108                   ['Support']                      [0.6866222023963928]   \n",
       "109                   ['Support']                      [0.5960627198219299]   \n",
       "110                   ['Support']                      [0.7017480731010437]   \n",
       "\n",
       "     next_verbal_interjection  next_nonverbal_interjection  \\\n",
       "0                       False                        False   \n",
       "1                       False                        False   \n",
       "2                       False                        False   \n",
       "3                       False                         True   \n",
       "4                       False                        False   \n",
       "..                        ...                          ...   \n",
       "106                     False                        False   \n",
       "107                     False                        False   \n",
       "108                     False                        False   \n",
       "109                     False                        False   \n",
       "110                     False                        False   \n",
       "\n",
       "                  Speaker    Gender      Party       Filename  \\\n",
       "0         Oliver Krischer  männlich     GRUENE  BT_19_235.xml   \n",
       "1    Wieland Schinnenburg  männlich        FDP  BT_19_236.xml   \n",
       "2     Armin-Paulus Hampel  männlich        AfD  BT_19_238.xml   \n",
       "3         Anna Christmann  weiblich     GRUENE  BT_19_237.xml   \n",
       "4       Annalena Baerbock  weiblich     GRUENE  BT_19_236.xml   \n",
       "..                    ...       ...        ...            ...   \n",
       "106      Fritz Felgentreu  männlich        SPD  BT_19_235.xml   \n",
       "107      Johannes Fechner  männlich        SPD  BT_19_239.xml   \n",
       "108           Volker Münz  männlich        AfD  BT_19_237.xml   \n",
       "109          Thomas Seitz  männlich        AfD  BT_19_236.xml   \n",
       "110        Gesine Lötzsch  weiblich  DIE LINKE  BT_19_239.xml   \n",
       "\n",
       "                  true_label utterance  \n",
       "0             ['Accusation']     False  \n",
       "1             ['Accusation']      True  \n",
       "2             ['Accusation']      True  \n",
       "3             ['Accusation']      True  \n",
       "4             ['Accusation']      True  \n",
       "..                       ...       ...  \n",
       "106  ['Self-representation']      True  \n",
       "107  ['Self-representation']      True  \n",
       "108              ['Support']      True  \n",
       "109              ['Support']      True  \n",
       "110              ['Support']      True  \n",
       "\n",
       "[108 rows x 12 columns]"
      ],
      "text/html": [
       "<div>\n",
       "<style scoped>\n",
       "    .dataframe tbody tr th:only-of-type {\n",
       "        vertical-align: middle;\n",
       "    }\n",
       "\n",
       "    .dataframe tbody tr th {\n",
       "        vertical-align: top;\n",
       "    }\n",
       "\n",
       "    .dataframe thead th {\n",
       "        text-align: right;\n",
       "    }\n",
       "</style>\n",
       "<table border=\"1\" class=\"dataframe\">\n",
       "  <thead>\n",
       "    <tr style=\"text-align: right;\">\n",
       "      <th></th>\n",
       "      <th>utterance_token_list</th>\n",
       "      <th>Sentences</th>\n",
       "      <th>predicted_labels</th>\n",
       "      <th>confidences</th>\n",
       "      <th>next_verbal_interjection</th>\n",
       "      <th>next_nonverbal_interjection</th>\n",
       "      <th>Speaker</th>\n",
       "      <th>Gender</th>\n",
       "      <th>Party</th>\n",
       "      <th>Filename</th>\n",
       "      <th>true_label</th>\n",
       "      <th>utterance</th>\n",
       "    </tr>\n",
       "  </thead>\n",
       "  <tbody>\n",
       "    <tr>\n",
       "      <th>0</th>\n",
       "      <td>['Er', 'hat', ',', 'um', 'das', 'Angebot', 'de...</td>\n",
       "      <td>Er hat, um das Angebot des Betreibers auf 2 Mi...</td>\n",
       "      <td>['Accusation', 'Evaluation']</td>\n",
       "      <td>[0.7817721366882324, 0.8461074829101562]</td>\n",
       "      <td>False</td>\n",
       "      <td>False</td>\n",
       "      <td>Oliver Krischer</td>\n",
       "      <td>männlich</td>\n",
       "      <td>GRUENE</td>\n",
       "      <td>BT_19_235.xml</td>\n",
       "      <td>['Accusation']</td>\n",
       "      <td>False</td>\n",
       "    </tr>\n",
       "    <tr>\n",
       "      <th>1</th>\n",
       "      <td>['Selbst', 'wenn', 'die', 'Delta-Variante', 'i...</td>\n",
       "      <td>Selbst wenn die Delta-Variante im Indischen Oz...</td>\n",
       "      <td>['Accusation', 'Evaluation']</td>\n",
       "      <td>[0.5181182622909546, 0.8843364715576172]</td>\n",
       "      <td>False</td>\n",
       "      <td>False</td>\n",
       "      <td>Wieland Schinnenburg</td>\n",
       "      <td>männlich</td>\n",
       "      <td>FDP</td>\n",
       "      <td>BT_19_236.xml</td>\n",
       "      <td>['Accusation']</td>\n",
       "      <td>True</td>\n",
       "    </tr>\n",
       "    <tr>\n",
       "      <th>2</th>\n",
       "      <td>['Jetzt', 'kommen', 'Sie', 'in', 'Ihrem', 'Ant...</td>\n",
       "      <td>Jetzt kommen Sie in Ihrem Antrag mit einer Mog...</td>\n",
       "      <td>['Accusation', 'Evaluation']</td>\n",
       "      <td>[0.5760517120361328, 0.8261353373527527]</td>\n",
       "      <td>False</td>\n",
       "      <td>False</td>\n",
       "      <td>Armin-Paulus Hampel</td>\n",
       "      <td>männlich</td>\n",
       "      <td>AfD</td>\n",
       "      <td>BT_19_238.xml</td>\n",
       "      <td>['Accusation']</td>\n",
       "      <td>True</td>\n",
       "    </tr>\n",
       "    <tr>\n",
       "      <th>3</th>\n",
       "      <td>['Sie', 'wollen', 'eine', '„', 'Mission', 'Qua...</td>\n",
       "      <td>Sie wollen eine „Mission Quantencomputer“ zum ...</td>\n",
       "      <td>['Accusation', 'Evaluation']</td>\n",
       "      <td>[0.727050244808197, 0.5267686247825623]</td>\n",
       "      <td>False</td>\n",
       "      <td>True</td>\n",
       "      <td>Anna Christmann</td>\n",
       "      <td>weiblich</td>\n",
       "      <td>GRUENE</td>\n",
       "      <td>BT_19_237.xml</td>\n",
       "      <td>['Accusation']</td>\n",
       "      <td>True</td>\n",
       "    </tr>\n",
       "    <tr>\n",
       "      <th>4</th>\n",
       "      <td>['Aber', 'diesem', 'Green', 'Deal', 'fehlt', '...</td>\n",
       "      <td>Aber diesem Green Deal fehlt der pulsierende H...</td>\n",
       "      <td>['Accusation', 'Evaluation']</td>\n",
       "      <td>[0.6021878719329834, 0.8785416483879089]</td>\n",
       "      <td>False</td>\n",
       "      <td>False</td>\n",
       "      <td>Annalena Baerbock</td>\n",
       "      <td>weiblich</td>\n",
       "      <td>GRUENE</td>\n",
       "      <td>BT_19_236.xml</td>\n",
       "      <td>['Accusation']</td>\n",
       "      <td>True</td>\n",
       "    </tr>\n",
       "    <tr>\n",
       "      <th>...</th>\n",
       "      <td>...</td>\n",
       "      <td>...</td>\n",
       "      <td>...</td>\n",
       "      <td>...</td>\n",
       "      <td>...</td>\n",
       "      <td>...</td>\n",
       "      <td>...</td>\n",
       "      <td>...</td>\n",
       "      <td>...</td>\n",
       "      <td>...</td>\n",
       "      <td>...</td>\n",
       "      <td>...</td>\n",
       "    </tr>\n",
       "    <tr>\n",
       "      <th>106</th>\n",
       "      <td>['Wir', 'sind', 'nach', 'Afghanistan', 'gegang...</td>\n",
       "      <td>Wir sind nach Afghanistan gegangen, um die fri...</td>\n",
       "      <td>['Self-representation']</td>\n",
       "      <td>[0.5320760607719421]</td>\n",
       "      <td>False</td>\n",
       "      <td>False</td>\n",
       "      <td>Fritz Felgentreu</td>\n",
       "      <td>männlich</td>\n",
       "      <td>SPD</td>\n",
       "      <td>BT_19_235.xml</td>\n",
       "      <td>['Self-representation']</td>\n",
       "      <td>True</td>\n",
       "    </tr>\n",
       "    <tr>\n",
       "      <th>107</th>\n",
       "      <td>['Das', 'zeigt', ',', 'dass', 'wir', 'die', 'C...</td>\n",
       "      <td>Das zeigt, dass wir die Coronaschutzmaßnahmen ...</td>\n",
       "      <td>['Self-representation']</td>\n",
       "      <td>[0.5861029028892517]</td>\n",
       "      <td>False</td>\n",
       "      <td>False</td>\n",
       "      <td>Johannes Fechner</td>\n",
       "      <td>männlich</td>\n",
       "      <td>SPD</td>\n",
       "      <td>BT_19_239.xml</td>\n",
       "      <td>['Self-representation']</td>\n",
       "      <td>True</td>\n",
       "    </tr>\n",
       "    <tr>\n",
       "      <th>108</th>\n",
       "      <td>['Die', 'Linke', 'hat', 'in', 'ihrem', 'Antrag...</td>\n",
       "      <td>Die Linke hat in ihrem Antrag auf Einführung e...</td>\n",
       "      <td>['Support']</td>\n",
       "      <td>[0.6866222023963928]</td>\n",
       "      <td>False</td>\n",
       "      <td>False</td>\n",
       "      <td>Volker Münz</td>\n",
       "      <td>männlich</td>\n",
       "      <td>AfD</td>\n",
       "      <td>BT_19_237.xml</td>\n",
       "      <td>['Support']</td>\n",
       "      <td>True</td>\n",
       "    </tr>\n",
       "    <tr>\n",
       "      <th>109</th>\n",
       "      <td>['So', 'oder', 'so', ':', 'Die', 'AfD', 'Frakt...</td>\n",
       "      <td>So oder so: Die AfD Fraktion begrüßt es, dass ...</td>\n",
       "      <td>['Support']</td>\n",
       "      <td>[0.5960627198219299]</td>\n",
       "      <td>False</td>\n",
       "      <td>False</td>\n",
       "      <td>Thomas Seitz</td>\n",
       "      <td>männlich</td>\n",
       "      <td>AfD</td>\n",
       "      <td>BT_19_236.xml</td>\n",
       "      <td>['Support']</td>\n",
       "      <td>True</td>\n",
       "    </tr>\n",
       "    <tr>\n",
       "      <th>110</th>\n",
       "      <td>['Ich', 'gebe', 'dem', 'Kollegen', 'Kubicki', ...</td>\n",
       "      <td>Ich gebe dem Kollegen Kubicki recht:</td>\n",
       "      <td>['Support']</td>\n",
       "      <td>[0.7017480731010437]</td>\n",
       "      <td>False</td>\n",
       "      <td>False</td>\n",
       "      <td>Gesine Lötzsch</td>\n",
       "      <td>weiblich</td>\n",
       "      <td>DIE LINKE</td>\n",
       "      <td>BT_19_239.xml</td>\n",
       "      <td>['Support']</td>\n",
       "      <td>True</td>\n",
       "    </tr>\n",
       "  </tbody>\n",
       "</table>\n",
       "<p>108 rows × 12 columns</p>\n",
       "</div>"
      ]
     },
     "execution_count": 256,
     "metadata": {},
     "output_type": "execute_result"
    }
   ],
   "execution_count": 256
  },
  {
   "metadata": {
    "ExecuteTime": {
     "end_time": "2025-02-13T09:37:58.951164Z",
     "start_time": "2025-02-13T09:37:58.308964Z"
    }
   },
   "cell_type": "code",
   "source": [
    "true_label_distribution = class_annotation['true_label'].value_counts(normalize=True) * 100\n",
    "predicted_label_distribution = class_annotation['predicted_labels'].value_counts(normalize=True) * 100\n",
    "utterance_distribution = class_annotation['utterance'].value_counts(normalize=True) * 100\n",
    "\n",
    "true_label_distribution.plot(kind=\"bar\", figsize=(8, 5), color=\"cornflowerblue\")\n",
    "\n",
    "plt.xlabel(\"True Label\")\n",
    "plt.ylabel(\"Percentage\")\n",
    "plt.title(\"Distribution of True Labels\")\n",
    "plt.xticks(rotation=45)  # Rotate labels for better readability\n",
    "plt.grid(axis=\"y\", linestyle=\"--\", alpha=0.7)  # Optional grid\n",
    "plt.show()\n",
    "\n",
    "\n",
    "predicted_label_distribution.plot(kind=\"bar\", figsize=(8, 5), color=\"cornflowerblue\")\n",
    "\n",
    "plt.xlabel(\"True Label\")\n",
    "plt.ylabel(\"Percentage\")\n",
    "plt.title(\"Distribution of Predicted Labels\")\n",
    "plt.xticks(rotation=45)  # Rotate labels for better readability\n",
    "plt.grid(axis=\"y\", linestyle=\"--\", alpha=0.7)  # Optional grid\n",
    "plt.show()\n",
    "\n",
    "\n",
    "print(\"True Label Distribution:\")\n",
    "print(true_label_distribution)\n",
    "\n",
    "print(\"\\nUtterance Distribution:\")\n",
    "print(utterance_distribution)"
   ],
   "id": "13d97cbab6ba8636",
   "outputs": [
    {
     "data": {
      "text/plain": [
       "<Figure size 800x500 with 1 Axes>"
      ],
      "image/png": "[encoded data removed]"
     },
     "metadata": {},
     "output_type": "display_data"
    },
    {
     "data": {
      "text/plain": [
       "<Figure size 800x500 with 1 Axes>"
      ],
      "image/png": "[encoded data removed]"
     },
     "metadata": {},
     "output_type": "display_data"
    },
    {
     "name": "stdout",
     "output_type": "stream",
     "text": [
      "True Label Distribution:\n",
      "true_label\n",
      "['Accusation']                   18.518519\n",
      "['Report']                       10.185185\n",
      "[]                                9.259259\n",
      "['Demand']                        9.259259\n",
      "['Expressive']                    9.259259\n",
      "['Promise']                       8.333333\n",
      "['Rejection']                     8.333333\n",
      "['Request']                       8.333333\n",
      "['Question-All']                  6.481481\n",
      "['Self-representation']           3.703704\n",
      "['Evaluation']                    2.777778\n",
      "['Support']                       2.777778\n",
      "['Accusation', 'Bad-outcome']     0.925926\n",
      "['Evaluation', 'Report']          0.925926\n",
      "['Macro']                         0.925926\n",
      "Name: proportion, dtype: float64\n",
      "\n",
      "Utterance Distribution:\n",
      "utterance\n",
      "True           70.370370\n",
      "False          18.518519\n",
      "Interrupted    11.111111\n",
      "Name: proportion, dtype: float64\n"
     ]
    }
   ],
   "execution_count": 257
  },
  {
   "metadata": {
    "ExecuteTime": {
     "end_time": "2025-02-13T09:38:44.669313Z",
     "start_time": "2025-02-13T09:38:44.530327Z"
    }
   },
   "cell_type": "code",
   "source": "predicted_label_distribution",
   "id": "8c236f2077fed5db",
   "outputs": [
    {
     "data": {
      "text/plain": [
       "predicted_labels\n",
       "['Accusation', 'Evaluation']    9.259259\n",
       "['Accusation']                  9.259259\n",
       "['Demand']                      9.259259\n",
       "['Expressive']                  9.259259\n",
       "['Promise']                     9.259259\n",
       "['Question-All']                9.259259\n",
       "['Rejection']                   9.259259\n",
       "['Report']                      9.259259\n",
       "['Request']                     9.259259\n",
       "['Macro']                       6.481481\n",
       "['Self-representation']         3.703704\n",
       "['Support']                     2.777778\n",
       "['Evaluation', 'Macro']         1.851852\n",
       "['Bad-outcome']                 0.925926\n",
       "['Evaluation', 'Report']        0.925926\n",
       "Name: proportion, dtype: float64"
      ]
     },
     "execution_count": 266,
     "metadata": {},
     "output_type": "execute_result"
    }
   ],
   "execution_count": 266
  },
  {
   "metadata": {
    "ExecuteTime": {
     "end_time": "2025-02-13T09:37:59.003601Z",
     "start_time": "2025-02-13T09:37:58.996610Z"
    }
   },
   "cell_type": "code",
   "source": [
    "from sklearn.metrics import accuracy_score\n",
    "true_labels = class_annotation['true_label']\n",
    "predicted_labels = class_annotation['predicted_labels']\n",
    "accuracy = accuracy_score(true_labels, predicted_labels)\n",
    "\n",
    "print(f\"Accuracy: {accuracy * 100:.2f}%\")"
   ],
   "id": "83992789843ca154",
   "outputs": [
    {
     "name": "stdout",
     "output_type": "stream",
     "text": [
      "Accuracy: 74.07%\n"
     ]
    }
   ],
   "execution_count": 258
  },
  {
   "metadata": {
    "ExecuteTime": {
     "end_time": "2025-02-13T09:40:19.474332Z",
     "start_time": "2025-02-13T09:40:18.840771Z"
    }
   },
   "cell_type": "code",
   "source": [
    "from sklearn.metrics import precision_score, recall_score\n",
    "\n",
    "for label in true_labels.unique():\n",
    "    label_true = (true_labels == label)\n",
    "    label_pred = (predicted_labels == label)\n",
    "\n",
    "    precision = precision_score(label_true, label_pred, zero_division=0)\n",
    "    recall = recall_score(label_true, label_pred, zero_division=0)\n",
    "\n",
    "    evaluation_distribution = (\n",
    "        class_annotation[class_annotation[\"true_label\"] == label][\"utterance\"]\n",
    "        .value_counts(normalize=True) * 100\n",
    "    )\n",
    "\n",
    "    print(f\"Label: {label}\")\n",
    "    print(f\"Precision: {precision:.2f}, Recall: {recall:.2f}\")\n",
    "    print(\"Utterance Distribution:\")\n",
    "    print(evaluation_distribution, \"\\n\")\n",
    "    print(\"------ \\n\")\n"
   ],
   "id": "c15bcfcfcd477397",
   "outputs": [
    {
     "name": "stdout",
     "output_type": "stream",
     "text": [
      "Label: ['Accusation']\n",
      "Precision: 0.90, Recall: 0.45\n",
      "Utterance Distribution:\n",
      "utterance\n",
      "True     75.0\n",
      "False    25.0\n",
      "Name: proportion, dtype: float64 \n",
      "\n",
      "------ \n",
      "\n",
      "Label: []\n",
      "Precision: 0.00, Recall: 0.00\n",
      "Utterance Distribution:\n",
      "utterance\n",
      "Interrupted    100.0\n",
      "Name: proportion, dtype: float64 \n",
      "\n",
      "------ \n",
      "\n",
      "Label: ['Accusation', 'Bad-outcome']\n",
      "Precision: 0.00, Recall: 0.00\n",
      "Utterance Distribution:\n",
      "utterance\n",
      "True    100.0\n",
      "Name: proportion, dtype: float64 \n",
      "\n",
      "------ \n",
      "\n",
      "Label: ['Demand']\n",
      "Precision: 1.00, Recall: 1.00\n",
      "Utterance Distribution:\n",
      "utterance\n",
      "True     90.0\n",
      "False    10.0\n",
      "Name: proportion, dtype: float64 \n",
      "\n",
      "------ \n",
      "\n",
      "Label: ['Evaluation']\n",
      "Precision: 0.00, Recall: 0.00\n",
      "Utterance Distribution:\n",
      "utterance\n",
      "Interrupted    66.666667\n",
      "True           33.333333\n",
      "Name: proportion, dtype: float64 \n",
      "\n",
      "------ \n",
      "\n",
      "Label: ['Evaluation', 'Report']\n",
      "Precision: 1.00, Recall: 1.00\n",
      "Utterance Distribution:\n",
      "utterance\n",
      "False    100.0\n",
      "Name: proportion, dtype: float64 \n",
      "\n",
      "------ \n",
      "\n",
      "Label: ['Expressive']\n",
      "Precision: 1.00, Recall: 1.00\n",
      "Utterance Distribution:\n",
      "utterance\n",
      "True     90.0\n",
      "False    10.0\n",
      "Name: proportion, dtype: float64 \n",
      "\n",
      "------ \n",
      "\n",
      "Label: ['Macro']\n",
      "Precision: 0.14, Recall: 1.00\n",
      "Utterance Distribution:\n",
      "utterance\n",
      "True    100.0\n",
      "Name: proportion, dtype: float64 \n",
      "\n",
      "------ \n",
      "\n",
      "Label: ['Question-All']\n",
      "Precision: 0.60, Recall: 0.86\n",
      "Utterance Distribution:\n",
      "utterance\n",
      "True    100.0\n",
      "Name: proportion, dtype: float64 \n",
      "\n",
      "------ \n",
      "\n",
      "Label: ['Report']\n",
      "Precision: 0.90, Recall: 0.82\n",
      "Utterance Distribution:\n",
      "utterance\n",
      "True     81.818182\n",
      "False    18.181818\n",
      "Name: proportion, dtype: float64 \n",
      "\n",
      "------ \n",
      "\n",
      "Label: ['Promise']\n",
      "Precision: 0.90, Recall: 1.00\n",
      "Utterance Distribution:\n",
      "utterance\n",
      "True     66.666667\n",
      "False    33.333333\n",
      "Name: proportion, dtype: float64 \n",
      "\n",
      "------ \n",
      "\n",
      "Label: ['Rejection']\n",
      "Precision: 0.90, Recall: 1.00\n",
      "Utterance Distribution:\n",
      "utterance\n",
      "True    100.0\n",
      "Name: proportion, dtype: float64 \n",
      "\n",
      "------ \n",
      "\n",
      "Label: ['Request']\n",
      "Precision: 0.90, Recall: 1.00\n",
      "Utterance Distribution:\n",
      "utterance\n",
      "False    55.555556\n",
      "True     44.444444\n",
      "Name: proportion, dtype: float64 \n",
      "\n",
      "------ \n",
      "\n",
      "Label: ['Self-representation']\n",
      "Precision: 1.00, Recall: 1.00\n",
      "Utterance Distribution:\n",
      "utterance\n",
      "False    50.0\n",
      "True     50.0\n",
      "Name: proportion, dtype: float64 \n",
      "\n",
      "------ \n",
      "\n",
      "Label: ['Support']\n",
      "Precision: 1.00, Recall: 1.00\n",
      "Utterance Distribution:\n",
      "utterance\n",
      "True    100.0\n",
      "Name: proportion, dtype: float64 \n",
      "\n",
      "------ \n",
      "\n"
     ]
    }
   ],
   "execution_count": 267
  },
  {
   "metadata": {
    "ExecuteTime": {
     "end_time": "2025-02-13T09:37:59.302063Z",
     "start_time": "2025-02-13T09:37:59.290540Z"
    }
   },
   "cell_type": "code",
   "source": [
    "label_distribution = class_annotation[\"true_label\"].value_counts(normalize=True) * 100\n",
    "label_distribution"
   ],
   "id": "747d4fd99b6198f2",
   "outputs": [
    {
     "data": {
      "text/plain": [
       "true_label\n",
       "['Accusation']                   18.518519\n",
       "['Report']                       10.185185\n",
       "[]                                9.259259\n",
       "['Demand']                        9.259259\n",
       "['Expressive']                    9.259259\n",
       "['Promise']                       8.333333\n",
       "['Rejection']                     8.333333\n",
       "['Request']                       8.333333\n",
       "['Question-All']                  6.481481\n",
       "['Self-representation']           3.703704\n",
       "['Evaluation']                    2.777778\n",
       "['Support']                       2.777778\n",
       "['Accusation', 'Bad-outcome']     0.925926\n",
       "['Evaluation', 'Report']          0.925926\n",
       "['Macro']                         0.925926\n",
       "Name: proportion, dtype: float64"
      ]
     },
     "execution_count": 260,
     "metadata": {},
     "output_type": "execute_result"
    }
   ],
   "execution_count": 260
  },
  {
   "metadata": {
    "ExecuteTime": {
     "end_time": "2025-02-13T09:37:59.447282Z",
     "start_time": "2025-02-13T09:37:59.432304Z"
    }
   },
   "cell_type": "code",
   "source": [
    "verbal_distribution = (\n",
    "        class_annotation[class_annotation[\"next_verbal_interjection\"] == True][\"true_label\"]\n",
    "        .value_counts(normalize=True) * 100\n",
    "    )\n",
    "\n",
    "verbal_distribution"
   ],
   "id": "b7f4542a58ab5414",
   "outputs": [
    {
     "data": {
      "text/plain": [
       "true_label\n",
       "['Accusation']      33.333333\n",
       "['Demand']          16.666667\n",
       "['Promise']         16.666667\n",
       "['Question-All']    16.666667\n",
       "['Rejection']       16.666667\n",
       "Name: proportion, dtype: float64"
      ]
     },
     "execution_count": 261,
     "metadata": {},
     "output_type": "execute_result"
    }
   ],
   "execution_count": 261
  },
  {
   "metadata": {
    "ExecuteTime": {
     "end_time": "2025-02-13T09:37:59.604349Z",
     "start_time": "2025-02-13T09:37:59.593816Z"
    }
   },
   "cell_type": "code",
   "source": [
    "verbal_distribution = (\n",
    "        class_annotation[class_annotation[\"next_nonverbal_interjection\"] == True][\"true_label\"]\n",
    "        .value_counts(normalize=True) * 100\n",
    "    )\n",
    "\n",
    "verbal_distribution"
   ],
   "id": "38e88ff7ee2e150e",
   "outputs": [
    {
     "data": {
      "text/plain": [
       "true_label\n",
       "['Accusation']                   38.461538\n",
       "['Demand']                       15.384615\n",
       "['Accusation', 'Bad-outcome']     7.692308\n",
       "['Promise']                       7.692308\n",
       "['Question-All']                  7.692308\n",
       "['Evaluation']                    7.692308\n",
       "['Rejection']                     7.692308\n",
       "['Request']                       7.692308\n",
       "Name: proportion, dtype: float64"
      ]
     },
     "execution_count": 262,
     "metadata": {},
     "output_type": "execute_result"
    }
   ],
   "execution_count": 262
  },
  {
   "metadata": {
    "ExecuteTime": {
     "end_time": "2025-02-13T09:37:59.821252Z",
     "start_time": "2025-02-13T09:37:59.807040Z"
    }
   },
   "cell_type": "code",
   "source": [
    "no_interjection_distribution = (\n",
    "    class_annotation[\n",
    "        (class_annotation[\"next_verbal_interjection\"] == False) &\n",
    "        (class_annotation[\"next_nonverbal_interjection\"] == False)\n",
    "    ][\"true_label\"]\n",
    "    .value_counts(normalize=True) * 100\n",
    ")\n",
    "\n",
    "no_interjection_distribution"
   ],
   "id": "b2bd0f974e416134",
   "outputs": [
    {
     "data": {
      "text/plain": [
       "true_label\n",
       "['Accusation']              14.285714\n",
       "['Report']                  12.087912\n",
       "[]                          10.989011\n",
       "['Expressive']              10.989011\n",
       "['Demand']                   8.791209\n",
       "['Rejection']                8.791209\n",
       "['Request']                  8.791209\n",
       "['Promise']                  7.692308\n",
       "['Question-All']             5.494505\n",
       "['Self-representation']      4.395604\n",
       "['Support']                  3.296703\n",
       "['Evaluation']               2.197802\n",
       "['Evaluation', 'Report']     1.098901\n",
       "['Macro']                    1.098901\n",
       "Name: proportion, dtype: float64"
      ]
     },
     "execution_count": 263,
     "metadata": {},
     "output_type": "execute_result"
    }
   ],
   "execution_count": 263
  },
  {
   "metadata": {
    "ExecuteTime": {
     "end_time": "2025-02-13T09:38:00.030181Z",
     "start_time": "2025-02-13T09:38:00.019863Z"
    }
   },
   "cell_type": "code",
   "source": [
    "either_interjection_distribution = (\n",
    "    class_annotation[\n",
    "        (class_annotation[\"next_verbal_interjection\"] == True) |\n",
    "        (class_annotation[\"next_nonverbal_interjection\"] == True)\n",
    "    ][\"true_label\"]\n",
    "    .value_counts(normalize=True) * 100\n",
    ")\n",
    "\n",
    "either_interjection_distribution"
   ],
   "id": "42984fedbaed2893",
   "outputs": [
    {
     "data": {
      "text/plain": [
       "true_label\n",
       "['Accusation']                   41.176471\n",
       "['Demand']                       11.764706\n",
       "['Promise']                      11.764706\n",
       "['Question-All']                 11.764706\n",
       "['Accusation', 'Bad-outcome']     5.882353\n",
       "['Evaluation']                    5.882353\n",
       "['Rejection']                     5.882353\n",
       "['Request']                       5.882353\n",
       "Name: proportion, dtype: float64"
      ]
     },
     "execution_count": 264,
     "metadata": {},
     "output_type": "execute_result"
    }
   ],
   "execution_count": 264
  },
  {
   "metadata": {
    "ExecuteTime": {
     "end_time": "2025-02-13T09:38:00.277110Z",
     "start_time": "2025-02-13T09:38:00.264661Z"
    }
   },
   "cell_type": "code",
   "source": [
    "both_interjection_distribution = (\n",
    "    class_annotation[\n",
    "        (class_annotation[\"next_verbal_interjection\"] == True) &\n",
    "        (class_annotation[\"next_nonverbal_interjection\"] == True)\n",
    "    ][\"true_label\"]\n",
    "    .value_counts(normalize=True) * 100\n",
    ")\n",
    "\n",
    "both_interjection_distribution"
   ],
   "id": "ce1f9b0dac499a71",
   "outputs": [
    {
     "data": {
      "text/plain": [
       "true_label\n",
       "['Demand']       50.0\n",
       "['Rejection']    50.0\n",
       "Name: proportion, dtype: float64"
      ]
     },
     "execution_count": 265,
     "metadata": {},
     "output_type": "execute_result"
    }
   ],
   "execution_count": 265
  }
 ],
 "metadata": {
  "kernelspec": {
   "display_name": "Python 3",
   "language": "python",
   "name": "python3"
  },
  "language_info": {
   "codemirror_mode": {
    "name": "ipython",
    "version": 2
   },
   "file_extension": ".py",
   "mimetype": "text/x-python",
   "name": "python",
   "nbconvert_exporter": "python",
   "pygments_lexer": "ipython2",
   "version": "2.7.6"
  }
 },
 "nbformat": 4,
 "nbformat_minor": 5
}
